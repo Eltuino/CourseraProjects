{
 "cells": [
  {
   "cell_type": "markdown",
   "metadata": {},
   "source": [
    "<center>\n",
    "    <img src=\"https://cf-courses-data.s3.us.cloud-object-storage.appdomain.cloud/IBMDeveloperSkillsNetwork-DS0105EN-SkillsNetwork/labs/Module2/images/SN_web_lightmode.png\" width=\"300\" alt=\"cognitiveclass.ai logo\">\n",
    "</center>\n"
   ]
  },
  {
   "cell_type": "markdown",
   "metadata": {},
   "source": [
    "#### Add your code below following the instructions given in the course\n"
   ]
  },
  {
   "cell_type": "markdown",
   "metadata": {},
   "source": [
    "## Jupyter_Notebook"
   ]
  },
  {
   "cell_type": "markdown",
   "metadata": {
    "tags": []
   },
   "source": [
    "### Introduction\n",
    "_In this Jupyter Notebook we will review the content of this course._"
   ]
  },
  {
   "cell_type": "markdown",
   "metadata": {},
   "source": [
    "#### Data Science Languages"
   ]
  },
  {
   "cell_type": "markdown",
   "metadata": {},
   "source": [
    "1. Python\n",
    "2. R\n",
    "3. SQL\n",
    "4. Scala\n",
    "5. Java\n",
    "6. C++\n",
    "7. Julia"
   ]
  },
  {
   "cell_type": "markdown",
   "metadata": {},
   "source": [
    "#### Data Science Libaries"
   ]
  },
  {
   "cell_type": "markdown",
   "metadata": {},
   "source": [
    "* Scikit-Learn\n",
    "* Pandas\n",
    "* Matplotlib\n",
    "* Keras\n",
    "* PyTorch\n",
    "* TensorFlow\n",
    "* Numpy\n",
    "* Seaborn\n",
    "* Apache Spark\n",
    "* Scala \n",
    "* Ggplot2"
   ]
  },
  {
   "cell_type": "markdown",
   "metadata": {
    "tags": []
   },
   "source": [
    "#### Data Science Tools"
   ]
  },
  {
   "cell_type": "markdown",
   "metadata": {
    "tags": []
   },
   "source": [
    "| Data Management | Data Integration | Data Visualization | Model Deployment | Model Monitoring |\n",
    "|-----------------|------------------|--------------------|------------------|------------------|\n",
    "| MySQL | Apache Airlfow | Pixie Dust | Apache PredictionIO | ModelDB |\n",
    "| PostgreSQL | KubeFlow | Hue | Seldon | Prometheus |\n",
    "| MongoDB  | Apache Kafka | Kibana | Kubernetes | IBM AI Fairness 360 |\n",
    "| Apache CouchDB | Apache Nifi | Apache Superset | Redhat | IBM AR 360 |"
   ]
  },
  {
   "cell_type": "markdown",
   "metadata": {},
   "source": [
    "#### Arithmetic Expresions\n",
    "* X = 3\n",
    "* y = 6\n",
    "* z = (X + y) * X"
   ]
  },
  {
   "cell_type": "code",
   "execution_count": 1,
   "metadata": {
    "tags": []
   },
   "outputs": [
    {
     "name": "stdout",
     "output_type": "stream",
     "text": [
      "27\n"
     ]
    }
   ],
   "source": [
    "X = 3\n",
    "y = 6 \n",
    "z = (X + y) * X\n",
    "\n",
    "print(z)"
   ]
  },
  {
   "cell_type": "code",
   "execution_count": 2,
   "metadata": {
    "tags": []
   },
   "outputs": [
    {
     "name": "stdout",
     "output_type": "stream",
     "text": [
      "60 minutes are equivalent to 1.0 hours\n"
     ]
    }
   ],
   "source": [
    "# Minutes to Hours\n",
    "def ConvertMinToHours(Min):\n",
    "    Min = Min / 60\n",
    "    return Min\n",
    "\n",
    "Minutes = 60\n",
    "\n",
    "print(Minutes, \"minutes are equivalent to\", ConvertMinToHours(Minutes) ,\"hours\")"
   ]
  },
  {
   "cell_type": "markdown",
   "metadata": {
    "tags": []
   },
   "source": [
    "### Objectives"
   ]
  },
  {
   "cell_type": "markdown",
   "metadata": {},
   "source": [
    " * Learn about Data Science \n",
    " * Improve Coding in R and Python\n",
    " * Learn tools for data visualization\n",
    " * Learn to use the data correctly\n",
    " * Help me to find a job"
   ]
  },
  {
   "cell_type": "markdown",
   "metadata": {
    "tags": []
   },
   "source": [
    "###  Author’s name\n",
    "_Arturo von Senger Loeper_"
   ]
  }
 ],
 "metadata": {
  "kernelspec": {
   "display_name": "Python",
   "language": "python",
   "name": "conda-env-python-py"
  },
  "language_info": {
   "codemirror_mode": {
    "name": "ipython",
    "version": 3
   },
   "file_extension": ".py",
   "mimetype": "text/x-python",
   "name": "python",
   "nbconvert_exporter": "python",
   "pygments_lexer": "ipython3",
   "version": "3.7.12"
  }
 },
 "nbformat": 4,
 "nbformat_minor": 4
}
